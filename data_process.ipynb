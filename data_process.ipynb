{
 "cells": [
  {
   "cell_type": "code",
   "execution_count": null,
   "id": "b71a19c7",
   "metadata": {},
   "outputs": [
    {
     "name": "stdout",
     "output_type": "stream",
     "text": [
      "Cleaning completed! Files saved as bproperty_rentals_cleaned.xlsx and .csv\n"
     ]
    }
   ],
   "source": [
    "import pandas as pd\n",
    "\n",
    "# Load the scraped Excel file\n",
    "file_path = r\"C:\\Users\\User\\Downloads\\csv_file\\dhaka_rental_properties.xlsx\"\n",
    "df = pd.read_excel(file_path)\n",
    "\n",
    "# --- Data Cleaning & Transformation ---\n",
    "\n",
    "# 1. Split location into Area and Sub-area\n",
    "df[[\"Sub_area\", \"Area\"]] = df[\"location\"].str.split(\",\", n=1, expand=True)\n",
    "df[\"Sub_area\"] = df[\"Sub_area\"].str.strip()\n",
    "df[\"Area\"] = df[\"Area\"].str.strip()\n",
    "\n",
    "# 2. Clean size column (remove 'sqft' and convert to int)\n",
    "df[\"size\"] = df[\"size\"].str.replace(\"sqft\", \"\").str.strip()\n",
    "df[\"size\"] = pd.to_numeric(df[\"size\"], errors=\"coerce\")\n",
    "\n",
    "# 3. Clean rent price (keep only integer digits)\n",
    "df[\"rent price\"] = df[\"rent price\"].str.replace(r\"[^\\d]\", \"\", regex=True)\n",
    "df[\"rent price\"] = pd.to_numeric(df[\"rent price\"], errors=\"coerce\")\n",
    "\n",
    "# Final cleaned dataframe\n",
    "cleaned_df = df[[\"Area\", \"Sub_area\", \"bedroom number\", \"bathroom number\", \"size\", \"rent price\"]]\n",
    "\n",
    "\n",
    "cleaned_df.to_excel(r\"C:\\Users\\User\\Desktop\\bproperty_rentals_cleaned.xlsx\", index=False)\n",
    "\n",
    "\n",
    "print(\"Cleaning completed! Files saved as bproperty_rentals_cleaned.xlsx\")\n"
   ]
  }
 ],
 "metadata": {
  "kernelspec": {
   "display_name": "venv (3.13.7)",
   "language": "python",
   "name": "python3"
  },
  "language_info": {
   "codemirror_mode": {
    "name": "ipython",
    "version": 3
   },
   "file_extension": ".py",
   "mimetype": "text/x-python",
   "name": "python",
   "nbconvert_exporter": "python",
   "pygments_lexer": "ipython3",
   "version": "3.13.7"
  }
 },
 "nbformat": 4,
 "nbformat_minor": 5
}
