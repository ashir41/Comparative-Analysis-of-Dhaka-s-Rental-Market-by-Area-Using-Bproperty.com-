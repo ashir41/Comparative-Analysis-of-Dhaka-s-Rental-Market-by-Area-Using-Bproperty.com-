{
 "cells": [
  {
   "cell_type": "code",
   "execution_count": null,
   "id": "add59598",
   "metadata": {},
   "outputs": [
    {
     "name": "stdout",
     "output_type": "stream",
     "text": [
      "Transformed dataset saved as: bproperty_rentals_transformed.xlsx\n"
     ]
    }
   ],
   "source": [
    "import pandas as pd\n",
    "\n",
    "# Load original dataset\n",
    "file_path =r\"C:\\Users\\User\\Downloads\\csv_file\\bproperty_rentals_cleaned.xlsx\" \n",
    "df = pd.read_excel(file_path)\n",
    "\n",
    "# 1. Rent per sqft\n",
    "df[\"rent_per_sqft\"] = df[\"rent price\"] / df[\"size\"]\n",
    "\n",
    "# 2. Bedroom category\n",
    "def categorize_bedrooms(b):\n",
    "    if b <= 2:\n",
    "        return \"Small (1-2)\"\n",
    "    elif 3 <= b <= 4:\n",
    "        return \"Medium (3-4)\"\n",
    "    else:\n",
    "        return \"Large (5+)\"\n",
    "\n",
    "df[\"bedroom_category\"] = df[\"bedroom number\"].apply(categorize_bedrooms)\n",
    "\n",
    "# 3. Size category\n",
    "def categorize_size(s):\n",
    "    if s < 1000:\n",
    "        return \"Small (<1000)\"\n",
    "    elif 1000 <= s <= 2000:\n",
    "        return \"Medium (1000-2000)\"\n",
    "    else:\n",
    "        return \"Large (>2000)\"\n",
    "\n",
    "df[\"size_category\"] = df[\"size\"].apply(categorize_size)\n",
    "\n",
    "# 4. Outlier flag (using IQR method on rent price)\n",
    "Q1 = df[\"rent price\"].quantile(0.25)\n",
    "Q3 = df[\"rent price\"].quantile(0.75)\n",
    "IQR = Q3 - Q1\n",
    "lower_bound = Q1 - 1.5 * IQR\n",
    "upper_bound = Q3 + 1.5 * IQR\n",
    "\n",
    "df[\"is_outlier\"] = ((df[\"rent price\"] < lower_bound) | (df[\"rent price\"] > upper_bound))\n",
    "# If Area is missing, use Sub_area value\n",
    "df[\"Area\"] = df.apply(lambda row: row[\"Sub_area\"] if pd.isna(row[\"Area\"]) or row[\"Area\"] == \"\" else row[\"Area\"], axis=1)\n",
    "\n",
    "\n",
    "# Save transformed dataset\n",
    "output_path = \"bproperty_rentals_transformed.xlsx\"\n",
    "df.to_excel(output_path, index=False)\n",
    "\n",
    "print(f\"Transformed dataset saved as: {output_path}\")\n"
   ]
  }
 ],
 "metadata": {
  "kernelspec": {
   "display_name": "venv (3.13.7)",
   "language": "python",
   "name": "python3"
  },
  "language_info": {
   "codemirror_mode": {
    "name": "ipython",
    "version": 3
   },
   "file_extension": ".py",
   "mimetype": "text/x-python",
   "name": "python",
   "nbconvert_exporter": "python",
   "pygments_lexer": "ipython3",
   "version": "3.13.7"
  }
 },
 "nbformat": 4,
 "nbformat_minor": 5
}
